{
 "cells": [
  {
   "cell_type": "markdown",
   "id": "fa09e9fd",
   "metadata": {},
   "source": [
    "FOR IMAGE TAG IN ADMIN POST INSIDE CONTENT"
   ]
  },
  {
   "cell_type": "code",
   "execution_count": null,
   "id": "618194b3",
   "metadata": {
    "vscode": {
     "languageId": "plaintext"
    }
   },
   "outputs": [],
   "source": [
    "<div class=\"text-center my-4\"> \n",
    "    <img src=\"/media/blog_images/5skincareskintypes.jpg\" class=\"card-img-top\" alt=\"5 skincare skin types.\" \n",
    "    style=\"object-fit: cover; max-width: 100%; height: 320px;\"> \n",
    "</div>"
   ]
  },
  {
   "cell_type": "code",
   "execution_count": null,
   "id": "19544e02",
   "metadata": {
    "vscode": {
     "languageId": "plaintext"
    }
   },
   "outputs": [],
   "source": [
    "i need html content for this exactly. use few emojis only , dont use too much emoji , remove big — with small -, remove footer, explore more options .................."
   ]
  }
 ],
 "metadata": {
  "language_info": {
   "name": "python"
  }
 },
 "nbformat": 4,
 "nbformat_minor": 5
}
